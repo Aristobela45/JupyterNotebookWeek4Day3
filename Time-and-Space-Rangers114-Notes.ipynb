{
 "cells": [
  {
   "cell_type": "markdown",
   "metadata": {},
   "source": [
    "# Time/Space Complexity - Intro to Data Structures (User Defined)\n",
    "\n",
    "### Topics to discuss today:\n",
    "\n",
    "<ul>\n",
    "    <li>Time and Space Complexity - What is it/How do we measure it</li>\n",
    "    <li>Asymptotic Analysis</li>\n",
    "    <li><strong>Data Structures</strong></li>\n",
    "    <li>Some of the popular sorting algorithms</li>\n",
    "</ul>\n",
    "\n",
    "### Data Structures to discuss:\n",
    "- Arrays\n",
    "- Stacks\n",
    "- Queues\n",
    "- Linked Lists\n",
    "    - Singly Linked Lists\n",
    "    - Traversing A Linked List\n",
    "    - Finding a node in a linked list\n",
    "    - Adding to a linked list\n"
   ]
  },
  {
   "cell_type": "markdown",
   "metadata": {},
   "source": [
    "## Time and Space Complexity\n",
    "\n",
    "#### What is it?\n",
    "\n",
    "Time and space complexity is the measure of how much time a given action(function) will take to solve a problem. In the same fashion, we determine how much a given data structure will need in terms of memory allocation. A problem can have multiple solutions and finding the optimal solution for the problem needs to be analyzed in time and space.\n",
    "\n",
    "#### How do we measure Time and Space Complexity?\n",
    "\n",
    "In order to measure time and space complexity we use Asymptotic analysis. The reason for this is because we need a way to measure different algorithms (functions) based on the size of their inputs in a mathmatical way. For example, we could have a function that is computed as f(n) and another that is g(n^2). All things around the function staying constant, the only thing that changes is the size of the input. Below is the chart that shows the different Asymptotic analysis formats. "
   ]
  },
  {
   "cell_type": "markdown",
   "metadata": {},
   "source": [
    "<table style=\"text-align:center;\" class=\"table table-bordered\">\n",
    "<tbody><tr>\n",
    "<td>constant</td>\n",
    "<td>−</td>\n",
    "<td>Ο(1)</td>\n",
    "</tr>\n",
    "<tr>\n",
    "<td>logarithmic</td>\n",
    "<td>−</td>\n",
    "<td>Ο(log n)</td>\n",
    "</tr>\n",
    "<tr>\n",
    "<td>linear</td>\n",
    "<td>−</td>\n",
    "<td>Ο(n)</td>\n",
    "</tr>\n",
    "<tr>\n",
    "<td>Linear Logarithmic</td>\n",
    "<td>−</td>\n",
    "<td>Ο(n log n)</td>\n",
    "</tr>\n",
    "<tr>\n",
    "<td>quadratic</td>\n",
    "<td>−</td>\n",
    "<td>Ο(n<sup>2</sup>)</td>\n",
    "</tr>\n",
    "<tr>\n",
    "<td>cubic</td>\n",
    "<td>−</td>\n",
    "<td>Ο(n<sup>3</sup>)</td>\n",
    "</tr>\n",
    "<tr>\n",
    "<td>polynomial</td>\n",
    "<td>−</td>\n",
    "<td>n<sup>Ο(1)</sup></td>\n",
    "</tr>\n",
    "<tr>\n",
    "<td>exponential</td>\n",
    "<td>−</td>\n",
    "<td>2<sup>Ο(n)</sup></td>\n",
    "</tr>\n",
    "</tbody></table>"
   ]
  },
  {
   "cell_type": "code",
   "execution_count": 2,
   "metadata": {},
   "outputs": [
    {
     "name": "stdout",
     "output_type": "stream",
     "text": [
      "True\n"
     ]
    }
   ],
   "source": [
    "#constant time\n",
    "def add_nums(num1, num2):\n",
    "    return num1 + num2\n",
    "#0(log n) Logarithmic\n",
    "#binary search\n",
    "def binary_search(arr, target):\n",
    "    left = 0\n",
    "    right = len(arr) - 1\n",
    "    while left <= right:\n",
    "        middle = (left+right)//2\n",
    "        potential_match = arr[middle]\n",
    "        if target == potential_match:\n",
    "            return f\"The index is {middle}\"\n",
    "        elif target < potential_match:\n",
    "            right = middle - 1\n",
    "        else:\n",
    "            left = middle + 1\n",
    "    return - 1\n",
    "\n",
    "# 0(n) Linear\n",
    "#time increases with number of inputs\n",
    "arr = [1, 2, 3 , 4, 5]\n",
    "def print_num(arr):\n",
    "    for num in arr:\n",
    "        print(num)\n",
    "#.count()\n",
    "#.index()\n",
    "#max() specifically with iterable\n",
    "#min() specifically with iterable\n",
    "#sum() on an iterable\n",
    "\n",
    "#O (n Log n) Linear Logarithmic\n",
    "#merge Sort\n",
    "#.Sort()\n",
    "#sorted()\n",
    "\n",
    "#Quadratic O(n^2)\n",
    "#Lucky number: find the number that occurs as many times\n",
    "#as its value, if there is more than one, reutrn the largest\n",
    "#of the lucky numbers\n",
    "arr = [1, 2, 2, 3, 3, 3, 4]\n",
    "def lucky_nums(arr):\n",
    "    count_arr = []\n",
    "    for num in arr:\n",
    "        if num == arr.count(num):\n",
    "            count_arr.append(num)\n",
    "    return count_arr\n",
    "arr = [10, 2, 5, 3]\n",
    "def number2(arr):\n",
    "    number_set = set(arr)\n",
    "    for i in arr:\n",
    "        if i*2 in number_set:\n",
    "            return True\n",
    "    else:\n",
    "        return False\n",
    "print(number2(arr))\n",
    "\n",
    "def print_lotsonums(arr1, arr2):\n",
    "    for x in arr1: #linear for loop\n",
    "        print(x)\n",
    "        for y in arr2:  #nested linear for loop\n",
    "            print(y)\n",
    "#print_lotsonums(arr, arr2)\n",
    "\n",
    "\n",
    "#Cubic O(n^3)\n",
    "# any triply nested Linear equation\n",
    "#foor Loops in for Loops\n",
    "#while Loops in for Loops\n",
    "#several nested Linear built in methods\n",
    "def print_num3(arr1, arr2, arr3):\n",
    "    for num1 in arr1:\n",
    "        for num2 in arr2:\n",
    "            for num3 in arr3:\n",
    "                print(num1 + num2 + num3)\n"
   ]
  },
  {
   "cell_type": "markdown",
   "metadata": {},
   "source": [
    "## Arrays"
   ]
  },
  {
   "cell_type": "markdown",
   "metadata": {},
   "source": [
    "In python we benefit from the dynamic array which means the block of memory will expand as needed for the given input to the array. In traditional arrays (depending on the type of operating system) we will usually store our inputs in 4 or 8 consecutive blocks of memory. Below is a diagram of how that looks under the hood:\n",
    "\n",
    "<img src=\"http://www.mathcs.emory.edu/~cheung/Courses/170/Syllabus/09/FIGS/array02x.gif\" style=\"height:250px; width:350px;\">"
   ]
  },
  {
   "cell_type": "markdown",
   "metadata": {},
   "source": [
    "## Which in python looks like this:"
   ]
  },
  {
   "cell_type": "code",
   "execution_count": 4,
   "metadata": {},
   "outputs": [
    {
     "name": "stdout",
     "output_type": "stream",
     "text": [
      "oh no\n",
      "[1, 2, 3, 7, 5]\n"
     ]
    }
   ],
   "source": [
    "#indexing an array (list)\n",
    "#constant and space\n",
    "#arr[i]\n",
    "my_list = [1, 2, 3, 4, 5]\n",
    "my_num = my_list[3]\n",
    "\n",
    "#searchign through an aray\n",
    "#linear O(n) time and Constant space O(1)\n",
    "if 6 in my_list:\n",
    "    print(\"its here\")\n",
    "else:\n",
    "    print(\"oh no\")\n",
    "    \n",
    "#copying an array\n",
    "#Lienar Time O(n) space\n",
    "\n",
    "my_list_copy = my_list[:]\n",
    "empty_list = []\n",
    "for num in my_list:\n",
    "    empty_list.append(num)\n",
    "    \n",
    "#setting an index\n",
    "#constsnt time and constant space O(1)\n",
    "my_list[3] = 7\n",
    "print(my_list)\n"
   ]
  },
  {
   "cell_type": "markdown",
   "metadata": {},
   "source": [
    "### Let's take a look at some of the time and space analysis of arrays"
   ]
  },
  {
   "cell_type": "code",
   "execution_count": null,
   "metadata": {},
   "outputs": [],
   "source": []
  },
  {
   "cell_type": "markdown",
   "metadata": {},
   "source": [
    "## Stacks and Queues\n",
    "\n",
    "** Stacks ** as the name suggests is a data structure that allows for data to follow the Last In First Out priciple(LIFO). Think of a stack of pancakes for example. To get the first pancake you would  start with the top and go down.\n",
    "\n",
    "##### Searching through a stack will be Linear Time O(n) - Constant Space O(1)\n",
    "##### Selecting the last item will be done in Constant Time O(1) - Constant Space O(1)\n",
    "##### Adding to the stack should take Constant Time O(1) - Constant Space O(1)\n",
    "\n",
    "** Queues ** are similar but in this case follow the First In First Out principle(FIFO). Think of this as a line in a black friday sale. The first person camped out for the big screen tv is the first to get it.\n",
    "\n",
    "##### Searching through a queue will be Linear Time O(n) - Constant Space O(1)\n",
    "##### Selecting the first item will be done in Constant Time O(1) - Constant Space O(1)\n",
    "##### Adding to the queue should take Constant Time O(1) - Constant Space O(1)"
   ]
  },
  {
   "cell_type": "code",
   "execution_count": 7,
   "metadata": {},
   "outputs": [
    {
     "name": "stdout",
     "output_type": "stream",
     "text": [
      "['pancake1']\n",
      "['pancake1', 'pancake2']\n",
      "['pancake1', 'pancake2', 'pancake3']\n",
      "['pancake1', 'pancake2', 'pancake3', 'pancake4']\n",
      "pancake4\n",
      "['pancake1', 'pancake2', 'pancake3']\n",
      "pancake3\n",
      "['pancake1', 'pancake2']\n"
     ]
    }
   ],
   "source": [
    "#stacks\n",
    "stack = [\"pancake1\"]\n",
    "print(stack)\n",
    "stack.append(\"pancake2\")\n",
    "print(stack)\n",
    "stack.append(\"pancake3\")\n",
    "print(stack)\n",
    "stack.append(\"pancake4\")\n",
    "print(stack)\n",
    "print(stack.pop())\n",
    "print(stack)\n",
    "print(stack.pop())\n",
    "print(stack)\n"
   ]
  },
  {
   "cell_type": "code",
   "execution_count": null,
   "metadata": {},
   "outputs": [],
   "source": [
    "from collections import deque\n",
    "#stack\n",
    "# first in last out\n",
    "# last in first out\n",
    "\n",
    "stack = deque()\n",
    "print(stack)\n",
    "stack.appendleft(\"pancake1\")\n",
    "print(stack)\n",
    "stack.appendleft(\"pancake2\")\n",
    "print(stack)\n",
    "stack.appendleft(\"pancake3\")\n",
    "print(stack)\n",
    "stack.appendleft(\"pancake4\")\n",
    "print(stack)"
   ]
  },
  {
   "cell_type": "code",
   "execution_count": 9,
   "metadata": {},
   "outputs": [
    {
     "name": "stdout",
     "output_type": "stream",
     "text": [
      "deque([])\n",
      "deque(['shopper1'])\n",
      "deque(['shopper2', 'shopper1'])\n",
      "deque(['shopper3', 'shopper2', 'shopper1'])\n",
      "deque(['shopper4', 'shopper3', 'shopper2', 'shopper1'])\n",
      "shopper1\n",
      "deque(['shopper4', 'shopper3', 'shopper2'])\n",
      "shopper2\n",
      "deque(['shopper4', 'shopper3'])\n",
      "deque(['shopper5', 'shopper4', 'shopper3'])\n",
      "deque(['shopper6', 'shopper5', 'shopper4', 'shopper3'])\n"
     ]
    }
   ],
   "source": [
    "from collections import deque\n",
    "#queue \n",
    "#first shopper in, first shopper out\n",
    "queue = deque()\n",
    "print(queue)\n",
    "queue.appendleft(\"shopper1\")\n",
    "print(queue)\n",
    "queue.appendleft(\"shopper2\")\n",
    "print(queue)\n",
    "queue.appendleft(\"shopper3\")\n",
    "print(queue)\n",
    "queue.appendleft(\"shopper4\")\n",
    "print(queue)\n",
    "print(queue.pop())\n",
    "print(queue)\n",
    "print(queue.pop())\n",
    "print(queue)\n",
    "queue.appendleft(\"shopper5\")\n",
    "print(queue)\n",
    "queue.appendleft(\"shopper6\")\n",
    "print(queue)"
   ]
  },
  {
   "cell_type": "markdown",
   "metadata": {},
   "source": [
    "# Sum of Parts Time Compelxity Exercise"
   ]
  },
  {
   "cell_type": "code",
   "execution_count": 15,
   "metadata": {},
   "outputs": [],
   "source": [
    "#sum of parts\n",
    "#https://www.codewars.com/kata/5ce399e0047a45001c853c2b\n",
    "\n",
    "ls = [0, 1, 3, 6, 10]\n",
    "    \n",
    "#ls = [0, 1, 3, 6, 10]\n",
    "#ls = [1, 3, 6, 10]\n",
    "#ls = [3, 6, 10]\n",
    "#ls = [6, 10]\n",
    "#ls = [10]\n",
    "#ls = []\n",
    "\n",
    "#The corresponding sums are (put together in a list): [20, 20, 19, 16, 10, 0]\n",
    "\n",
    "#The function parts_sums (or its variants in other languages) will take as parameter a list ls \n",
    "#and return a list of the sums of its parts as defined above.\n",
    "\n",
    "def parts_sums(ls):\n",
    "    sums = [sum(ls)]\n",
    "    for i in ls:\n",
    "        sums.append(sums[-1]-i)\n",
    "    return sums\n",
    "    \n",
    "    "
   ]
  },
  {
   "cell_type": "code",
   "execution_count": null,
   "metadata": {},
   "outputs": [],
   "source": []
  },
  {
   "cell_type": "markdown",
   "metadata": {},
   "source": [
    "## Linked List (Data Structure)\n",
    "\n",
    "A linked list is created by using the node class. We create a Node object and create another class to use this node object. We pass the appropriate values thorugh the node object to point the to the next data elements.\n",
    "\n",
    "There are some advantages and disadvantages with this data structure. **Advantages** Linked Lists can save memory because they can be flexibile with memory management which saves memory. **Disadvantages** Finding or adding to the list requires traversing the entire list."
   ]
  },
  {
   "cell_type": "code",
   "execution_count": 27,
   "metadata": {},
   "outputs": [],
   "source": [
    "#implementation of a linked list\n",
    "\n",
    "#2 components to the structure\n",
    "# node class - value and next attributes\n",
    "#linked list class - how we add, to and traverse the list\n",
    "\n",
    "#node class \n",
    "class Node():\n",
    "    def __init__(self, value):\n",
    "        self.value = value\n",
    "        self.next = None\n",
    "        \n",
    "#linked list class\n",
    "class LinkedList():\n",
    "    def __init__(self):\n",
    "        self.head = None\n",
    "        \n",
    "#pushOn - place an item at the head of the list -- the beginning\n",
    "    def pushOn(self, new_value):\n",
    "        new_node = Node(new_value)\n",
    "        new_node.next = self.head\n",
    "        self.head = new_node\n",
    "    \n",
    "#insertafter - place a node after anohter in the linked list\n",
    "    def insertAfter(self, prev_node, new_value):\n",
    "        #check if the previous node exists\n",
    "        if prev_node is None:\n",
    "            print(\"The given node must not be empty\")\n",
    "            return\n",
    "        #if hte prev_node is not empty, we create a new node\n",
    "        new_node = Node(new_value)\n",
    "        \n",
    "        #update the new node's next attribute(pointer) to point to the\n",
    "        #prev_nodes next\n",
    "        new_node.next = prev_node.next\n",
    "        \n",
    "        #update prev_nodes next to our new_node\n",
    "        prev_node.next = new_node\n",
    "        \n",
    "        #append(add) to the END of the linked list\n",
    "    def append(self, new_value):\n",
    "        #create a new node objext -- new_node = Node(value)\n",
    "        new_node = Node(new_value)\n",
    "        \n",
    "        #checl if list is empty\n",
    "        #if it is, make this new node the head(beginning of the list)\n",
    "        if self.head is None:\n",
    "            self.head = new_node\n",
    "            \n",
    "        #if not empty, traverse list & append it to the end\n",
    "        last = self.head #node object last.value and last.next\n",
    "            \n",
    "        #change the current last to the next node and continously check\n",
    "        #if last.next is None\n",
    "        while last.next:\n",
    "            last = last.next\n",
    "            \n",
    "        #change the current last node next value(which is currenlty none) to the new_node\n",
    "        last.next = new_node\n",
    "        \n",
    "    #traverse - move thorugh the linked list\n",
    "    def traverse(self):\n",
    "        temp = self.head\n",
    "        \n",
    "        #while temp is NOT NONE -- keep moving through list until is none\n",
    "        while temp:\n",
    "            print(temp.value)\n",
    "            temp = temp.next\n",
    "            print(\"end of list\")"
   ]
  },
  {
   "cell_type": "code",
   "execution_count": 2,
   "metadata": {},
   "outputs": [
    {
     "ename": "NameError",
     "evalue": "name 'LinkedList' is not defined",
     "output_type": "error",
     "traceback": [
      "\u001b[1;31m---------------------------------------------------------------------------\u001b[0m",
      "\u001b[1;31mNameError\u001b[0m                                 Traceback (most recent call last)",
      "\u001b[1;32m~\\AppData\\Local\\Temp\\ipykernel_9200\\1543789978.py\u001b[0m in \u001b[0;36m<module>\u001b[1;34m\u001b[0m\n\u001b[1;32m----> 1\u001b[1;33m \u001b[0mweekdays_list\u001b[0m \u001b[1;33m=\u001b[0m \u001b[0mLinkedList\u001b[0m\u001b[1;33m(\u001b[0m\u001b[1;33m)\u001b[0m\u001b[1;33m\u001b[0m\u001b[1;33m\u001b[0m\u001b[0m\n\u001b[0m\u001b[0;32m      2\u001b[0m \u001b[0mweekdays_list\u001b[0m\u001b[1;33m.\u001b[0m\u001b[0mpushOn\u001b[0m\u001b[1;33m(\u001b[0m\u001b[1;34m\"Monday\"\u001b[0m\u001b[1;33m)\u001b[0m\u001b[1;33m\u001b[0m\u001b[1;33m\u001b[0m\u001b[0m\n\u001b[0;32m      3\u001b[0m \u001b[0mweekdays_list\u001b[0m\u001b[1;33m.\u001b[0m\u001b[0mtraverse\u001b[0m\u001b[1;33m(\u001b[0m\u001b[1;33m)\u001b[0m\u001b[1;33m\u001b[0m\u001b[1;33m\u001b[0m\u001b[0m\n\u001b[0;32m      4\u001b[0m \u001b[1;31m#weekdays_list.head_value\u001b[0m\u001b[1;33m\u001b[0m\u001b[1;33m\u001b[0m\u001b[0m\n\u001b[0;32m      5\u001b[0m \u001b[0mweekdays_list\u001b[0m\u001b[1;33m.\u001b[0m\u001b[0mappend\u001b[0m\u001b[1;33m(\u001b[0m\u001b[1;34m\"Wednesday\"\u001b[0m\u001b[1;33m)\u001b[0m\u001b[1;33m\u001b[0m\u001b[1;33m\u001b[0m\u001b[0m\n",
      "\u001b[1;31mNameError\u001b[0m: name 'LinkedList' is not defined"
     ]
    }
   ],
   "source": [
    "weekdays_list = LinkedList()\n",
    "weekdays_list.pushOn(\"Monday\")\n",
    "weekdays_list.traverse()\n",
    "#weekdays_list.head_value \n",
    "weekdays_list.append(\"Wednesday\")\n",
    "\n",
    "weekdays_list.insert_after(weekdays_list.head, \"Tuesday\")\n",
    "#weekdays_list.traverse()\n",
    "weekdays_list.insert_after(weekdays_list.head.next.next, \"Thursday\")\n",
    "weekdays_list.traverse()\n",
    "weekdays_list.append(\"Friday\")\n",
    "#weekdays_list.traverse()\n",
    "weekdays_list.append(\"Saturday\")\n",
    "weekdays_list.traverse()\n",
    "weekdays_list.pushOn(\"Sunday\")\n",
    "weekdays_list.traverse()"
   ]
  },
  {
   "cell_type": "code",
   "execution_count": null,
   "metadata": {},
   "outputs": [],
   "source": [
    "#For homework please revisit 3 codewars problems and refactor your solution to improve their time complexity. \n",
    "\n",
    "#Also read through the following data structures for some additional understanding!\n",
    "\n"
   ]
  },
  {
   "cell_type": "code",
   "execution_count": 3,
   "metadata": {},
   "outputs": [],
   "source": [
    "#1 [original solution]\n",
    "#def parts_sums(ls):\n",
    "    #sums = [sum(ls)]\n",
    "    #for i in ls:\n",
    "        #sums.append(sums[-1]-i)\n",
    "    #return sums\n",
    "\n",
    "#[refactoring]\n",
    "def parts_sums(ls): #function parts_sums w/ an list as an argument\n",
    "    d = sum(ls)   #I have a variable equal to the sum of the list\n",
    "    r = [d]       # then another variable equal to a list of the previous variable\n",
    "    for i in ls:   #using a for loop to loop index in list\n",
    "        d = d-i     # variable equal to a variable minus index i\n",
    "        r.append(d)   #then using the append method to add item in the end of the variable\n",
    "    return r"
   ]
  },
  {
   "cell_type": "code",
   "execution_count": 4,
   "metadata": {},
   "outputs": [],
   "source": [
    "#2 [original solution]\n",
    "#def count(string):\n",
    "    #return {c:string.count(c) for c in string}\n",
    "    \n",
    "#[refactoring]\n",
    "def count(string):   #I have a function count with an argument of string\n",
    "    return Counter(string)  #return by having the arugment inside of a counter method"
   ]
  },
  {
   "cell_type": "code",
   "execution_count": null,
   "metadata": {},
   "outputs": [],
   "source": []
  }
 ],
 "metadata": {
  "kernelspec": {
   "display_name": "Python 3 (ipykernel)",
   "language": "python",
   "name": "python3"
  },
  "language_info": {
   "codemirror_mode": {
    "name": "ipython",
    "version": 3
   },
   "file_extension": ".py",
   "mimetype": "text/x-python",
   "name": "python",
   "nbconvert_exporter": "python",
   "pygments_lexer": "ipython3",
   "version": "3.9.13"
  }
 },
 "nbformat": 4,
 "nbformat_minor": 2
}
